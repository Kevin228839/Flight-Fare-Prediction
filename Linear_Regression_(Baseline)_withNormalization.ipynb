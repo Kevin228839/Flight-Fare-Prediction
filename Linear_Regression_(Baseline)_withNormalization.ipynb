{
 "cells": [
  {
   "cell_type": "code",
   "execution_count": 1,
   "id": "5a03c335",
   "metadata": {},
   "outputs": [],
   "source": [
    "# Flight fare prediction\n",
    "import numpy as np\n",
    "import pandas as pd\n",
    "import matplotlib.pyplot as plt\n",
    "from sklearn import preprocessing\n",
    "from sklearn.model_selection import train_test_split\n",
    "from sklearn.preprocessing import MinMaxScaler\n",
    "\n",
    "# Preprocessing\n",
    "# import dataset\n",
    "df = pd.read_excel(\"Data_Train.xlsx\")\n",
    "\n",
    "# drop null value\n",
    "df.dropna(inplace=True)\n",
    "\n",
    "# drop duplicates\n",
    "df.drop_duplicates(keep='first', inplace=True)\n",
    "\n",
    "# convert Dep_Time and Arrival_Time into hour and minute\n",
    "# Dep_Time\n",
    "df[\"Dep_hour\"] = pd.to_datetime(df[\"Dep_Time\"]).dt.hour\n",
    "df[\"Dep_minute\"] = pd.to_datetime(df[\"Dep_Time\"]).dt.minute\n",
    "df = df.drop(columns=\"Dep_Time\")\n",
    "\n",
    "# Arrival_Time\n",
    "df[\"Arr_hour\"] = pd.to_datetime(df[\"Arrival_Time\"]).dt.hour\n",
    "df[\"Arr_minute\"] = pd.to_datetime(df[\"Arrival_Time\"]).dt.minute\n",
    "df = df.drop(columns=\"Arrival_Time\")\n",
    "\n",
    "# convert Date_of_Journey into timestamp\n",
    "df[\"Date_of_Journey_Year\"] = pd.to_datetime(\n",
    "    df[\"Date_of_Journey\"], format=\"%d/%m/%Y\").dt.year\n",
    "# ps. I don't think \"year\" is mandatory\n",
    "df[\"Date_of_Journey_Month\"] = pd.to_datetime(\n",
    "    df[\"Date_of_Journey\"], format=\"%d/%m/%Y\").dt.month\n",
    "df[\"Date_of_Journey_Day\"] = pd.to_datetime(\n",
    "    df[\"Date_of_Journey\"], format=\"%d/%m/%Y\").dt.day\n",
    "df = df.drop(columns=\"Date_of_Journey\")\n",
    "\n",
    "\n",
    "# convert Duration into minute\n",
    "df['Duration'] = df['Duration']\\\n",
    "    .str.replace(\"h\", '*60')\\\n",
    "    .str.replace(' ', '+')\\\n",
    "    .str.replace('m', '*1')\\\n",
    "    .apply(eval)\n",
    "\n",
    "# Normalize Duration using Min-Max scaling\n",
    "scaler = MinMaxScaler()\n",
    "df['Duration'] = scaler.fit_transform(df['Duration'].values.reshape(-1, 1))\n",
    "\n",
    "# drop Additional_Info \n",
    "df.drop(['Additional_Info'], axis=1, inplace=True)\n",
    "\n",
    "# drop Route\n",
    "df.drop(['Route'], axis=1, inplace=True) \n",
    "\n",
    "# Encode categorical attributes\n",
    "# Select categorical data\n",
    "df_categorical = df[['Airline', 'Source', 'Destination']]\n",
    "df.drop(['Airline', 'Source', 'Destination'], axis=1, inplace=True)\n",
    "\n",
    "\n",
    "# Encode\n",
    "df_categorical = pd.get_dummies(df_categorical, drop_first=True)\n",
    "df['Total_Stops'] = df['Total_Stops'].map({\"non-stop\":0, \"1 stop\": 1, \"2 stops\": 2, \"3 stops\":3, \"4 stops\": 4})\n",
    "\n",
    "# Concat categorical and numerical data\n",
    "preprocessed = pd.concat([df, df_categorical], axis=1)\n",
    "target = df['Price']\n",
    "\n",
    "# Drop 'Price' because price is the target variable\n",
    "preprocessed.drop(['Price'], axis=1, inplace=True)\n",
    "\n",
    "# Train_Test_Split\n",
    "data_train, data_test, target_train, target_test = train_test_split(\n",
    "    preprocessed, target,test_size=0.3, random_state=42)"
   ]
  },
  {
   "cell_type": "code",
   "execution_count": 2,
   "id": "e8123cdc",
   "metadata": {},
   "outputs": [],
   "source": [
    "from sklearn.linear_model import LinearRegression\n",
    "\n",
    "# Linear Regression\n",
    "regressor = LinearRegression()\n",
    "regressor.fit(data_train, target_train)\n",
    "\n",
    "# Prediction on test data\n",
    "target_pred = regressor.predict(data_test)"
   ]
  },
  {
   "cell_type": "code",
   "execution_count": 3,
   "id": "caee1a1c",
   "metadata": {},
   "outputs": [
    {
     "name": "stdout",
     "output_type": "stream",
     "text": [
      "Mean Squared Error (MSE): 8079460.364604042\n"
     ]
    }
   ],
   "source": [
    "from sklearn.metrics import mean_squared_error\n",
    "\n",
    "# Calculate Mean Squared Error (MSE)\n",
    "mse = mean_squared_error(target_test, target_pred)\n",
    "print('Mean Squared Error (MSE):', mse)"
   ]
  },
  {
   "cell_type": "code",
   "execution_count": 4,
   "id": "d3ef41bb",
   "metadata": {},
   "outputs": [
    {
     "name": "stdout",
     "output_type": "stream",
     "text": [
      "Root Mean Squared Error (RMSE): 2842.4391575905443\n"
     ]
    }
   ],
   "source": [
    "# Calculate Root Mean Squared Error (RMSE)\n",
    "rmse = np.sqrt(mean_squared_error(target_test, target_pred))\n",
    "print(\"Root Mean Squared Error (RMSE):\", rmse)"
   ]
  },
  {
   "cell_type": "code",
   "execution_count": 5,
   "id": "f0e58f69",
   "metadata": {},
   "outputs": [
    {
     "name": "stdout",
     "output_type": "stream",
     "text": [
      "Mean Absolute Error (MAE): 1977.658217263782\n"
     ]
    }
   ],
   "source": [
    "from sklearn.metrics import mean_absolute_error\n",
    "\n",
    "# Calculate Mean Absolute Error (MAE)\n",
    "mae = mean_absolute_error(target_test, target_pred)\n",
    "print(\"Mean Absolute Error (MAE):\", mae)"
   ]
  },
  {
   "cell_type": "code",
   "execution_count": 6,
   "id": "8ae8f9c6",
   "metadata": {},
   "outputs": [
    {
     "name": "stdout",
     "output_type": "stream",
     "text": [
      "R-squared (R^2): 0.6109769413220887\n"
     ]
    }
   ],
   "source": [
    "from sklearn.metrics import r2_score\n",
    "\n",
    "# Calculate R-squared score (R^2)\n",
    "r2 = r2_score(target_test, target_pred)\n",
    "\n",
    "# Print the R-squared score\n",
    "print(\"R-squared (R^2):\", r2)"
   ]
  },
  {
   "cell_type": "code",
   "execution_count": 7,
   "id": "36d3df48",
   "metadata": {},
   "outputs": [
    {
     "name": "stdout",
     "output_type": "stream",
     "text": [
      "Adjusted R-Squared (Adjusted R^2): 0.607348228327023\n"
     ]
    }
   ],
   "source": [
    "# Calculate R-squared score\n",
    "r2 = r2_score(target_test, target_pred)\n",
    "\n",
    "# Calculate the number of samples and predictors\n",
    "n = len(target_test)\n",
    "p = data_test.shape[1]\n",
    "\n",
    "# Calculate adjusted R-squared\n",
    "adjusted_r2 = 1 - (1 - r2) * (n - 1) / (n - p - 1)\n",
    "\n",
    "# Print the adjusted R-squared score\n",
    "print(\"Adjusted R-Squared (Adjusted R^2):\", adjusted_r2)"
   ]
  },
  {
   "cell_type": "code",
   "execution_count": 8,
   "id": "93870d55",
   "metadata": {},
   "outputs": [
    {
     "name": "stdout",
     "output_type": "stream",
     "text": [
      "7081.919512707193\n"
     ]
    }
   ],
   "source": [
    "# Average value of the dependent variable, if all independent variables have the value 0 or are not considered\n",
    "\n",
    "print(regressor.intercept_)"
   ]
  },
  {
   "cell_type": "code",
   "execution_count": 9,
   "id": "2119c1c7",
   "metadata": {},
   "outputs": [
    {
     "name": "stdout",
     "output_type": "stream",
     "text": [
      "[ 1.45383469e+02  2.82320718e+03  2.29455998e+01 -1.25570397e+00\n",
      " -6.23724115e+00  3.13590762e+00  3.33670869e-11 -4.08629765e+02\n",
      " -7.44710045e+01  1.59974579e+03 -3.09621860e+01  2.59821360e+02\n",
      "  4.45090269e+03  4.65860099e+04  3.82557081e+03  3.99675238e+03\n",
      " -2.10689713e+02 -3.63797881e-12  2.10801404e+03  2.91170160e+03\n",
      "  5.87485109e+01 -3.62979421e+00 -1.17246324e+02 -8.19192331e+02\n",
      " -3.62979421e+00 -8.53947954e+02 -8.19192331e+02  5.87485109e+01\n",
      "  1.73526789e+03]\n"
     ]
    }
   ],
   "source": [
    "# Coefficients for each feature\n",
    "\n",
    "print(regressor.coef_)"
   ]
  },
  {
   "cell_type": "code",
   "execution_count": 10,
   "id": "374c1fb5",
   "metadata": {},
   "outputs": [
    {
     "data": {
      "image/png": "[encoded data removed]",
      "text/plain": [
       "<Figure size 432x288 with 1 Axes>"
      ]
     },
     "metadata": {
      "needs_background": "light"
     },
     "output_type": "display_data"
    }
   ],
   "source": [
    "# Plotting the linear regression\n",
    "plt.scatter(target_train, regressor.predict(data_train), color='red', label='Training Set')\n",
    "plt.scatter(target_test, target_pred, color='blue', label='Test Set')\n",
    "plt.plot([target_test.min(), target_test.max()], [target_test.min(), target_test.max()], 'k--', lw=2)\n",
    "plt.xlabel('Actual Fare')\n",
    "plt.ylabel('Predicted Fare')\n",
    "plt.title('Actual vs. Predicted Fare')\n",
    "plt.legend()\n",
    "plt.show()"
   ]
  },
  {
   "cell_type": "code",
   "execution_count": 11,
   "id": "cb97d324",
   "metadata": {},
   "outputs": [
    {
     "name": "stdout",
     "output_type": "stream",
     "text": [
      "Best Hyperparameters:\n",
      "{'fit_intercept': True, 'normalize': True}\n",
      "Best Score:\n",
      "0.6209264643453344\n"
     ]
    }
   ],
   "source": [
    "from sklearn.model_selection import GridSearchCV\n",
    "from sklearn.model_selection import KFold\n",
    "\n",
    "# Define the Linear Regression model\n",
    "linear_reg = LinearRegression()\n",
    "\n",
    "# Define the hyperparameters to tune\n",
    "parameters = {\n",
    "    'fit_intercept': [True, False],\n",
    "    'normalize': [True, False]\n",
    "}\n",
    "\n",
    "# Perform GridSearchCV with 10-fold cross-validation\n",
    "cv = KFold(n_splits=10, shuffle=True, random_state=42)\n",
    "grid_search = GridSearchCV(linear_reg, parameters, cv=cv)\n",
    "grid_search.fit(data_train, target_train)\n",
    "\n",
    "# Get the best estimator\n",
    "best_linear_reg = grid_search.best_estimator_\n",
    "\n",
    "# Print the best hyperparameters and corresponding score\n",
    "print(\"Best Hyperparameters:\")\n",
    "print(grid_search.best_params_)\n",
    "print(\"Best Score:\")\n",
    "print(grid_search.best_score_)\n"
   ]
  },
  {
   "cell_type": "code",
   "execution_count": 12,
   "id": "7f35f4ae",
   "metadata": {},
   "outputs": [
    {
     "name": "stdout",
     "output_type": "stream",
     "text": [
      "Best Hyperparameters:\n",
      "{'fit_intercept': False, 'normalize': True}\n",
      "Best Score:\n",
      "-8112999.053492693\n",
      "Mean Squared Error (MSE):\n",
      "8079460.36460422\n"
     ]
    }
   ],
   "source": [
    "from sklearn.model_selection import GridSearchCV\n",
    "from sklearn.model_selection import KFold\n",
    "from sklearn.metrics import mean_squared_error\n",
    "\n",
    "# Define the Linear Regression model\n",
    "linear_reg = LinearRegression()\n",
    "\n",
    "# Define the hyperparameters to tune\n",
    "parameters = {\n",
    "    'fit_intercept': [True, False],\n",
    "    'normalize': [True, False]\n",
    "}\n",
    "\n",
    "# Perform GridSearchCV with 10-fold cross-validation\n",
    "cv = KFold(n_splits=10, shuffle=True, random_state=42)\n",
    "grid_search = GridSearchCV(linear_reg, parameters, cv=cv, scoring='neg_mean_squared_error')\n",
    "grid_search.fit(data_train, target_train)\n",
    "\n",
    "# Get the best estimator\n",
    "best_linear_reg = grid_search.best_estimator_\n",
    "\n",
    "# Calculate MSE on the test set\n",
    "predictions = best_linear_reg.predict(data_test)\n",
    "mse = mean_squared_error(target_test, predictions)\n",
    "\n",
    "# Print the best hyperparameters, corresponding score, and MSE\n",
    "print(\"Best Hyperparameters:\")\n",
    "print(grid_search.best_params_)\n",
    "print(\"Best Score:\")\n",
    "print(grid_search.best_score_)\n",
    "print(\"Mean Squared Error (MSE):\")\n",
    "print(mse)\n"
   ]
  },
  {
   "cell_type": "code",
   "execution_count": null,
   "id": "848f7c66",
   "metadata": {},
   "outputs": [],
   "source": []
  }
 ],
 "metadata": {
  "kernelspec": {
   "display_name": "Python 3 (ipykernel)",
   "language": "python",
   "name": "python3"
  },
  "language_info": {
   "codemirror_mode": {
    "name": "ipython",
    "version": 3
   },
   "file_extension": ".py",
   "mimetype": "text/x-python",
   "name": "python",
   "nbconvert_exporter": "python",
   "pygments_lexer": "ipython3",
   "version": "3.9.7"
  }
 },
 "nbformat": 4,
 "nbformat_minor": 5
}
