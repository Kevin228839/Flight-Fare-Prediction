{
 "cells": [
  {
   "cell_type": "markdown",
   "metadata": {},
   "source": [
    "## Import Libraries"
   ]
  },
  {
   "cell_type": "code",
   "execution_count": 1,
   "metadata": {},
   "outputs": [],
   "source": [
    "import numpy as np\n",
    "import pandas as pd\n",
    "import matplotlib.pyplot as plt\n",
    "from sklearn import preprocessing\n",
    "from sklearn.preprocessing import MinMaxScaler\n",
    "from sklearn.preprocessing import StandardScaler\n",
    "from sklearn.model_selection import train_test_split\n",
    "import copy\n",
    "import datetime\n",
    "\n",
    "from sklearn.tree import DecisionTreeRegressor\n",
    "from sklearn.metrics import mean_squared_error\n",
    "from sklearn.metrics import r2_score\n",
    "from sklearn.model_selection import cross_val_score\n",
    "from sklearn.model_selection import RandomizedSearchCV\n",
    "from sklearn.feature_selection import SelectFromModel\n",
    "import math\n",
    "\n",
    "import warnings\n",
    "warnings.filterwarnings('ignore')"
   ]
  },
  {
   "cell_type": "markdown",
   "metadata": {},
   "source": [
    "## Data Preprocessing"
   ]
  },
  {
   "cell_type": "code",
   "execution_count": 11,
   "metadata": {},
   "outputs": [],
   "source": [
    "# Flight fare prediction\n",
    "import numpy as np\n",
    "import pandas as pd\n",
    "import matplotlib.pyplot as plt\n",
    "from sklearn import preprocessing\n",
    "from sklearn.model_selection import train_test_split\n",
    "import datetime\n",
    "\n",
    "def CheckWeekend(year, month, day):\n",
    "    convertDate = datetime.date(year, month, day)\n",
    "    convertDateResult = convertDate.weekday()\n",
    "    if convertDateResult <= 4:\n",
    "        return False\n",
    "    return True\n",
    "\n",
    "# Preprocessing\n",
    "# import dataset\n",
    "df = pd.read_excel(\"Data_Train.xlsx\")\n",
    "\n",
    "# drop null value\n",
    "df.dropna(inplace=True)\n",
    "\n",
    "# drop duplicates\n",
    "df.drop_duplicates(keep='first', inplace=True)\n",
    "\n",
    "# convert Dep_Time and Arrival_Time into hour and minute\n",
    "# Dep_Time\n",
    "df[\"Dep_hour\"] = pd.to_datetime(df[\"Dep_Time\"]).dt.hour\n",
    "df[\"Dep_minute\"] = pd.to_datetime(df[\"Dep_Time\"]).dt.minute\n",
    "df = df.drop(columns=\"Dep_Time\")\n",
    "\n",
    "# Arrival_Time\n",
    "df[\"Arr_hour\"] = pd.to_datetime(df[\"Arrival_Time\"]).dt.hour\n",
    "df[\"Arr_minute\"] = pd.to_datetime(df[\"Arrival_Time\"]).dt.minute\n",
    "df = df.drop(columns=\"Arrival_Time\")\n",
    "\n",
    "# convert Date_of_Journey into timestamp\n",
    "df[\"Date_of_Journey_Year\"] = pd.to_datetime(\n",
    "    df[\"Date_of_Journey\"], format=\"%d/%m/%Y\").dt.year\n",
    "# ps. I don't think \"year\" is mandatory\n",
    "df[\"Date_of_Journey_Month\"] = pd.to_datetime(\n",
    "    df[\"Date_of_Journey\"], format=\"%d/%m/%Y\").dt.month\n",
    "df[\"Date_of_Journey_Day\"] = pd.to_datetime(\n",
    "    df[\"Date_of_Journey\"], format=\"%d/%m/%Y\").dt.day\n",
    "df = df.drop(columns=\"Date_of_Journey\")\n",
    "\n",
    "\n",
    "# convert Duration into minute\n",
    "df['Duration'] = df['Duration']\\\n",
    "    .str.replace(\"h\", '*60')\\\n",
    "    .str.replace(' ', '+')\\\n",
    "    .str.replace('m', '*1')\\\n",
    "    .apply(eval)\n",
    "\n",
    "# drop Additional_Info \n",
    "df.drop(['Additional_Info'], axis=1, inplace=True)\n",
    "\n",
    "# drop Route\n",
    "df.drop(['Route'], axis=1, inplace=True) \n",
    "\n",
    "# Encode categorical attributes\n",
    "# Select categorical data\n",
    "df_categorical = df[['Airline', 'Source', 'Destination']]\n",
    "df.drop(['Airline', 'Source', 'Destination'], axis=1, inplace=True)\n",
    "\n",
    "\n",
    "# Encode\n",
    "df_categorical = pd.get_dummies(df_categorical, drop_first=True)\n",
    "df['Total_Stops'] = df['Total_Stops'].map({\"non-stop\":0, \"1 stop\": 1, \"2 stops\": 2, \"3 stops\":3, \"4 stops\": 4})\n",
    "\n",
    "# Concat categorical and numerical data\n",
    "preprocessed = pd.concat([df, df_categorical], axis=1)\n",
    "target = df['Price']\n",
    "\n",
    "# Drop 'Price' because price is the target variable\n",
    "preprocessed.drop(['Price'], axis=1, inplace=True)\n",
    "\n",
    "# Train_Test_Split\n",
    "data_train, data_test, target_train, target_test = train_test_split(\n",
    "    preprocessed, target,test_size=0.3, random_state=42)\n",
    "\n",
    "## Feature Engineering - check if date is weekday or weekend\n",
    "data_train[\"IsWeekend\"] = data_train.apply(lambda x: 1 if CheckWeekend(x[\"Date_of_Journey_Year\"], x[\"Date_of_Journey_Month\"], x[\"Date_of_Journey_Day\"]) else 0, axis=1)\n",
    "data_test[\"IsWeekend\"] = data_test.apply(lambda x: 1 if CheckWeekend(x[\"Date_of_Journey_Year\"], x[\"Date_of_Journey_Month\"], x[\"Date_of_Journey_Day\"]) else 0, axis=1)\n"
   ]
  },
  {
   "cell_type": "code",
   "execution_count": 14,
   "metadata": {},
   "outputs": [
    {
     "data": {
      "text/plain": [
       "\"\\nscaler = MinMaxScaler()\\ndata_train[['Duration']] = scaler.fit_transform(data_train[['Duration']])\\ndata_test[['Duration']] = scaler.fit_transform(data_test[['Duration']])\\n\""
      ]
     },
     "execution_count": 14,
     "metadata": {},
     "output_type": "execute_result"
    }
   ],
   "source": [
    "'''\n",
    "scaler = MinMaxScaler()\n",
    "data_train[['Duration']] = scaler.fit_transform(data_train[['Duration']])\n",
    "data_test[['Duration']] = scaler.fit_transform(data_test[['Duration']])\n",
    "'''"
   ]
  },
  {
   "cell_type": "markdown",
   "metadata": {},
   "source": [
    "## Regression Tree"
   ]
  },
  {
   "cell_type": "code",
   "execution_count": 15,
   "metadata": {},
   "outputs": [
    {
     "name": "stdout",
     "output_type": "stream",
     "text": [
      "Average Cross-Validation R-squared score:  0.6883334583334569\n",
      "R-Squared: 0.6903080744088547\n",
      "MSE: 6431864.595777582\n"
     ]
    }
   ],
   "source": [
    "# Initializing the Decision Tree Regression model\n",
    "rg_tree = DecisionTreeRegressor(random_state = 42)\n",
    "\n",
    "\n",
    "#use cross-validation to estimate model performance\n",
    "cross_regression_tree = cross_val_score(rg_tree, data_train, target_train, cv=10, scoring='r2')\n",
    "print('Average Cross-Validation R-squared score: ', cross_regression_tree.mean())\n",
    "\n",
    "\n",
    "# Fitting the Decision Tree Regression model to the data\n",
    "rg_tree.fit(data_train, target_train)\n",
    "\n",
    "# Predicting the target values of the test set\n",
    "y_pred = rg_tree.predict(data_test)\n",
    "\n",
    "\n",
    "#Evaluate the model on the testing set\n",
    "#r_squared\n",
    "r2_regression_tree = r2_score(target_test, y_pred)\n",
    "print('R-Squared:', r2_regression_tree)\n",
    "\n",
    "#MSE\n",
    "mean_squared_error_regression_tree = mean_squared_error(target_test, y_pred)\n",
    "print('MSE:', mean_squared_error_regression_tree)"
   ]
  },
  {
   "cell_type": "markdown",
   "metadata": {},
   "source": [
    "## Hyperparameter Tuning"
   ]
  },
  {
   "cell_type": "code",
   "execution_count": 16,
   "metadata": {},
   "outputs": [
    {
     "name": "stdout",
     "output_type": "stream",
     "text": [
      "Fitting 5 folds for each of 10 candidates, totalling 50 fits\n",
      "Best parameters:  {'min_samples_split': 5, 'min_samples_leaf': 5, 'max_features': 'auto', 'max_depth': 15}\n",
      "Best R-sqaured score:  0.7030393085336621\n"
     ]
    }
   ],
   "source": [
    "# Using RandomizedSearchCV for hyperparameter tuning\n",
    "\n",
    "params = {'max_features': ['auto', 'sqrt'],\n",
    "          'max_depth':[int(x) for x in np.linspace(start = 1, stop = 20, num = 20)],\n",
    "          'min_samples_leaf':[int(x) for x in np.linspace(start = 1, stop = 20, num = 20)],\n",
    "          'min_samples_split':[int(x) for x in np.linspace(start = 1, stop = 20, num = 20)]\n",
    "         }\n",
    "\n",
    "RS_regression_tree = RandomizedSearchCV(random_state = 42, estimator=rg_tree,param_distributions=params,cv=5,n_iter=10,n_jobs=1, verbose=True, scoring='r2')\n",
    "RS_regression_tree.fit(data_train, target_train)\n",
    "print('Best parameters: ',RS_regression_tree.best_params_)\n",
    "print('Best R-sqaured score: ',RS_regression_tree.best_score_)"
   ]
  },
  {
   "cell_type": "code",
   "execution_count": 17,
   "metadata": {},
   "outputs": [
    {
     "name": "stdout",
     "output_type": "stream",
     "text": [
      "Average Cross-Validation R-squared score:  0.7260194936813701\n",
      "R-Squared: 0.7308717527849882\n",
      "MSE: 5589414.195031904\n",
      "RMSE: 2364.194195710645\n"
     ]
    }
   ],
   "source": [
    "rg_tree = DecisionTreeRegressor(random_state = 42, min_samples_split = 5, min_samples_leaf = 5, max_features = 'auto', max_depth = 15)\n",
    "\n",
    "#use cross-validation to estimate model performance\n",
    "cross_regression_tree = cross_val_score(rg_tree, data_train, target_train, cv=10, scoring='r2')\n",
    "print('Average Cross-Validation R-squared score: ', cross_regression_tree.mean())\n",
    "\n",
    "# Fitting the Decision Tree Regression model to the data\n",
    "rg_tree.fit(data_train, target_train)\n",
    "\n",
    "# Predicting the target values of the test set\n",
    "y_pred = rg_tree.predict(data_test)\n",
    "\n",
    "\n",
    "#Evaluate the model on the testing set\n",
    "#r_squared\n",
    "r2_regression_tree = r2_score(target_test, y_pred)\n",
    "print('R-Squared:', r2_regression_tree)\n",
    "\n",
    "#MSE\n",
    "mean_squared_error_regression_tree = mean_squared_error(target_test, y_pred)\n",
    "print('MSE:', mean_squared_error_regression_tree)\n",
    "\n",
    "#RMSE\n",
    "root_mean_squared_error_regression_tree = math.sqrt(mean_squared_error_regression_tree)\n",
    "print('RMSE:', root_mean_squared_error_regression_tree)"
   ]
  },
  {
   "cell_type": "code",
   "execution_count": null,
   "metadata": {},
   "outputs": [],
   "source": []
  },
  {
   "cell_type": "code",
   "execution_count": null,
   "metadata": {},
   "outputs": [],
   "source": []
  },
  {
   "cell_type": "code",
   "execution_count": null,
   "metadata": {},
   "outputs": [],
   "source": []
  },
  {
   "cell_type": "code",
   "execution_count": null,
   "metadata": {},
   "outputs": [],
   "source": []
  }
 ],
 "metadata": {
  "kernelspec": {
   "display_name": "Python 3",
   "language": "python",
   "name": "python3"
  },
  "language_info": {
   "codemirror_mode": {
    "name": "ipython",
    "version": 3
   },
   "file_extension": ".py",
   "mimetype": "text/x-python",
   "name": "python",
   "nbconvert_exporter": "python",
   "pygments_lexer": "ipython3",
   "version": "3.7.9"
  }
 },
 "nbformat": 4,
 "nbformat_minor": 4
}
